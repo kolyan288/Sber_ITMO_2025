{
 "cells": [
  {
   "cell_type": "code",
   "execution_count": 1,
   "metadata": {},
   "outputs": [
    {
     "name": "stdout",
     "output_type": "stream",
     "text": [
      "{'unobstructed': 1, 'orthogonal_planes': 1, 'h_bond_bridging': 0}\n"
     ]
    }
   ],
   "source": [
    "from classifier import Classifier\n",
    "\n",
    "drug = 'CN1C2=C(C(=O)N(C1=O)C)NC=N2'\n",
    "coformer = 'C1=CC=C2C=CC=CC2=C1'\n",
    "properties = ['unobstructed', 'orthogonal_planes', 'h_bond_bridging']\n",
    "\n",
    "classification = Classifier()\n",
    "properties = classification.predict_properties(drug, coformer, properties)\n",
    "print(properties)"
   ]
  },
  {
   "cell_type": "code",
   "execution_count": 2,
   "metadata": {},
   "outputs": [
    {
     "name": "stdout",
     "output_type": "stream",
     "text": [
      "{'unobstructed': 1, 'h_bond_bridging': 0}\n"
     ]
    }
   ],
   "source": [
    "from classifier import Classifier\n",
    "\n",
    "drug = 'CN1C2=C(C(=O)N(C1=O)C)NC=N2'\n",
    "coformer = 'C1=CC=C2C=CC=CC2=C1'\n",
    "properties = ['unobstructed', 'h_bond_bridging']\n",
    "\n",
    "classification = Classifier()\n",
    "properties = classification.predict_properties(drug, coformer, properties)\n",
    "print(properties)"
   ]
  },
  {
   "cell_type": "code",
   "execution_count": 3,
   "metadata": {},
   "outputs": [
    {
     "name": "stdout",
     "output_type": "stream",
     "text": [
      "{'unobstructed': 1}\n"
     ]
    }
   ],
   "source": [
    "from classifier import Classifier\n",
    "\n",
    "drug = 'CN1C2=C(C(=O)N(C1=O)C)NC=N2'\n",
    "coformer = 'C1=CC=C2C=CC=CC2=C1'\n",
    "properties = ['unobstructed']\n",
    "\n",
    "classification = Classifier()\n",
    "properties = classification.predict_properties(drug, coformer, properties)\n",
    "print(properties)"
   ]
  }
 ],
 "metadata": {
  "kernelspec": {
   "display_name": "Hack_sber_itmo",
   "language": "python",
   "name": "python3"
  },
  "language_info": {
   "codemirror_mode": {
    "name": "ipython",
    "version": 3
   },
   "file_extension": ".py",
   "mimetype": "text/x-python",
   "name": "python",
   "nbconvert_exporter": "python",
   "pygments_lexer": "ipython3",
   "version": "3.8.20"
  }
 },
 "nbformat": 4,
 "nbformat_minor": 2
}
